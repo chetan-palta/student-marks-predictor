{
 "cells": [
  {
   "cell_type": "markdown",
   "id": "48305b00-8dd7-466d-a9a9-fa8726806780",
   "metadata": {},
   "source": [
    "EDA & MODEL\n"
   ]
  },
  {
   "cell_type": "code",
   "execution_count": null,
   "id": "a3977d6b-1c43-4f0e-bd38-82ce40aa472d",
   "metadata": {},
   "outputs": [],
   "source": [
    "import pandas as pd\n",
    "import numpy as np\n",
    "import matplotlib.pyplot as plt\n",
    "import seaborn as sns\n",
    "from sklearn.model_selection import train_test_split\n",
    "from sklearn.linear_model import LinearRegression\n",
    "from sklearn.metrics import mean_squared_error, r2_score"
   ]
  },
  {
   "cell_type": "code",
   "execution_count": null,
   "id": "ae43919d-fc46-43bc-b9bf-30a3ee62bc16",
   "metadata": {},
   "outputs": [],
   "source": [
    "df = pd.read_csv(\"../data/student_scores.csv\")\n",
    "df.head()"
   ]
  },
  {
   "cell_type": "code",
   "execution_count": null,
   "id": "6321b777-b517-4a86-9370-7dc6f2f46977",
   "metadata": {},
   "outputs": [],
   "source": [
    "df.info()\n",
    "df.describe()"
   ]
  },
  {
   "cell_type": "code",
   "execution_count": null,
   "id": "823b2a4d-34d1-4e36-aa0d-67bdb91ab38a",
   "metadata": {},
   "outputs": [],
   "source": [
    "# Correlation Heatmap\n",
    "sns.heatmap(df.corr(), annot=True, cmap='coolwarm')\n",
    "plt.title(\"Feature Correlation\")\n",
    "plt.show()"
   ]
  },
  {
   "cell_type": "code",
   "execution_count": null,
   "id": "9c627c1d-0c7e-4963-add8-c8bec8f70e0a",
   "metadata": {},
   "outputs": [],
   "source": [
    "sns.pairplot(df)\n",
    "plt.show()"
   ]
  },
  {
   "cell_type": "code",
   "execution_count": null,
   "id": "b46f1350-0e4e-47ef-9e44-822f38ada936",
   "metadata": {},
   "outputs": [],
   "source": [
    "# Feature Selection & Split\n",
    "X = df[['Hours_Studied', 'Attendance_Percentage']]\n",
    "y = df['Marks_Obtained']\n",
    "\n",
    "X_train, X_test, y_train, y_test = train_test_split(X, y, test_size=0.2, random_state=42)\n",
    "\n"
   ]
  },
  {
   "cell_type": "code",
   "execution_count": null,
   "id": "c6c0fb33-aece-4579-8f0e-f98bb5a1e706",
   "metadata": {},
   "outputs": [],
   "source": [
    "# Train Linear Regression\n",
    "model = LinearRegression()\n",
    "model.fit(X_train, y_train)"
   ]
  },
  {
   "cell_type": "code",
   "execution_count": null,
   "id": "5270cb03-f9b6-4b10-9a8e-f4d993d85d25",
   "metadata": {},
   "outputs": [],
   "source": [
    "# Predict & Evaluate\n",
    "y_pred = model.predict(X_test)\n",
    "print(\"MSE:\", mean_squared_error(y_test, y_pred))\n",
    "print(\"R^2 Score:\", r2_score(y_test, y_pred))"
   ]
  },
  {
   "cell_type": "code",
   "execution_count": null,
   "id": "3205cac4-e6ed-4dd4-a01d-8955670b881d",
   "metadata": {},
   "outputs": [],
   "source": [
    "# Plot predictions vs actual\n",
    "plt.scatter(y_test, y_pred, color='blue')\n",
    "plt.xlabel(\"Actual Marks\")\n",
    "plt.ylabel(\"Predicted Marks\")\n",
    "plt.title(\"Actual vs Predicted Marks\")\n",
    "plt.grid(True)\n",
    "plt.show()"
   ]
  },
  {
   "cell_type": "code",
   "execution_count": null,
   "id": "5ed8febc-4238-4d1d-9a97-22b954aaf88d",
   "metadata": {},
   "outputs": [],
   "source": []
  }
 ],
 "metadata": {
  "kernelspec": {
   "display_name": "Python [conda env:base] *",
   "language": "python",
   "name": "conda-base-py"
  },
  "language_info": {
   "codemirror_mode": {
    "name": "ipython",
    "version": 3
   },
   "file_extension": ".py",
   "mimetype": "text/x-python",
   "name": "python",
   "nbconvert_exporter": "python",
   "pygments_lexer": "ipython3",
   "version": "3.12.7"
  }
 },
 "nbformat": 4,
 "nbformat_minor": 5
}
