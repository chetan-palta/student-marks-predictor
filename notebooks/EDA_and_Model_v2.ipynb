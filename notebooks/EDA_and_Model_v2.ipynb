{
 "cells": [
  {
   "cell_type": "markdown",
   "id": "ff27fd21",
   "metadata": {},
   "source": [
    "# EDA_and_Model_v2.ipynb "
   ]
  },
  {
   "cell_type": "code",
   "execution_count": null,
   "id": "9a08a55e",
   "metadata": {
    "vscode": {
     "languageId": "plaintext"
    }
   },
   "outputs": [],
   "source": [
    "\n",
    "\n",
    "\n",
    "import pandas as pd\n",
    "import numpy as np\n",
    "import matplotlib.pyplot as plt\n",
    "import seaborn as sns\n",
    "from sklearn.model_selection import train_test_split\n",
    "from sklearn.linear_model import LinearRegression\n",
    "from sklearn.metrics import mean_squared_error, r2_score\n",
    "\n",
    "# Cell 2: Load updated dataset\n",
    "df = pd.read_csv(\"../data/student_scores_extended.csv\")\n",
    "df.head()\n",
    "\n",
    "# Cell 3: Dataset Info\n",
    "df.info()\n",
    "df.describe()\n",
    "\n",
    "# Cell 4: Correlation Heatmap\n",
    "plt.figure(figsize=(10, 7))\n",
    "sns.heatmap(df.corr(), annot=True, cmap='coolwarm', fmt=\".2f\")\n",
    "plt.title(\"Feature Correlation Matrix\")\n",
    "plt.xticks(rotation=45)\n",
    "plt.yticks(rotation=0)\n",
    "plt.tight_layout()\n",
    "plt.show()\n",
    "\n",
    "# Cell 5: Top Positive/Negative Correlations\n",
    "correlations = df.corr()['Marks_Obtained'].drop('Marks_Obtained').sort_values()\n",
    "print(\"\\nTop Features Affecting Marks Negatively:\")\n",
    "print(correlations.head(3))\n",
    "print(\"\\nTop Features Affecting Marks Positively:\")\n",
    "print(correlations.tail(3))\n",
    "\n",
    "# Cell 6: Feature Selection & Split\n",
    "X = df.drop(columns=['Marks_Obtained'])\n",
    "y = df['Marks_Obtained']\n",
    "\n",
    "X_train, X_test, y_train, y_test = train_test_split(X, y, test_size=0.2, random_state=42)\n",
    "\n",
    "# Cell 7: Train Linear Regression\n",
    "model = LinearRegression()\n",
    "model.fit(X_train, y_train)\n",
    "\n",
    "# Cell 8: Predict & Evaluate\n",
    "y_pred = model.predict(X_test)\n",
    "print(\"MSE:\", mean_squared_error(y_test, y_pred))\n",
    "print(\"R^2 Score:\", r2_score(y_test, y_pred))\n",
    "\n",
    "# Cell 9: Plot predictions vs actual\n",
    "plt.scatter(y_test, y_pred, color='green')\n",
    "plt.xlabel(\"Actual Marks\")\n",
    "plt.ylabel(\"Predicted Marks\")\n",
    "plt.title(\"Actual vs Predicted Marks\")\n",
    "plt.grid(True)\n",
    "plt.show()\n"
   ]
  }
 ],
 "metadata": {
  "language_info": {
   "name": "python"
  }
 },
 "nbformat": 4,
 "nbformat_minor": 5
}
